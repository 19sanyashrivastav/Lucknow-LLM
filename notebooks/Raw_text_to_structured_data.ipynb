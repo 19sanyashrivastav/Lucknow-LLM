{
  "nbformat": 4,
  "nbformat_minor": 0,
  "metadata": {
    "colab": {
      "provenance": []
    },
    "kernelspec": {
      "name": "python3",
      "display_name": "Python 3"
    },
    "language_info": {
      "name": "python"
    }
  },
  "cells": [
    {
      "cell_type": "code",
      "source": [
        "from google.colab import userdata"
      ],
      "metadata": {
        "id": "EAFvA4lBZvKW"
      },
      "execution_count": null,
      "outputs": []
    },
    {
      "cell_type": "code",
      "source": [
        "import textwrap\n",
        "import google.generativeai as genai\n",
        "from IPython.display import Markdown\n",
        "\n",
        "GOOGLE_API_KEY = \"Paste your GenAI Key Here\" # Get the key from https://makersuite.google.com/app/prompts/new_freeform\n",
        "\n",
        "class TrainDataCreator:\n",
        "    model = genai.GenerativeModel('gemini-pro')\n",
        "    genai.configure(api_key=GOOGLE_API_KEY)\n",
        "\n",
        "    def __init__(self):\n",
        "        pass\n",
        "\n",
        "    def get_prompt(self):\n",
        "        with open('prompt.txt', 'r') as f:\n",
        "            prompt_data = f.read()\n",
        "        return prompt_data\n",
        "\n",
        "    @staticmethod\n",
        "    def to_markdown(text):\n",
        "        text = text.replace('•', '  *')\n",
        "        return Markdown(textwrap.indent(text, '> ', predicate=lambda _: True))\n",
        "\n",
        "    def create(self, txt: str):\n",
        "        \"\"\"Provides instances in gemini format.\n",
        "\n",
        "        This function takes paragraph(str) as input and provide\n",
        "        pairs of question and answer in gemini format.\n",
        "        Pairs can be more than one, so use accordingly.\n",
        "        :param txt: string\n",
        "        :return lines: list of JSON objects.\"\"\"\n",
        "\n",
        "        prompt = self.get_prompt()\n",
        "        full_prompt = prompt + txt + \"\\n\\nOutput: \\n\"\n",
        "        gemini_response = self.model.generate_content(full_prompt)\n",
        "        try:\n",
        "            response_ = eval(gemini_response.text)\n",
        "            return response_\n",
        "        except Exception as e:\n",
        "            return \"Response format Error\""
      ],
      "metadata": {
        "id": "RAAQ8ByZZ0dv"
      },
      "execution_count": null,
      "outputs": []
    },
    {
      "cell_type": "code",
      "source": [
        "data_gen = TrainDataCreator()"
      ],
      "metadata": {
        "id": "i2Bhjn0paFIj"
      },
      "execution_count": null,
      "outputs": []
    },
    {
      "cell_type": "code",
      "source": [
        "raw_data = \"\"\"You will be stopped short in your tracks if you suddenly come across this temple and might suddenly think that you are in some city in South India! The temple is actually dedicated to Lord Balaji, the manifestation of Vishnu which is mostly worshipped in the southern states of India. The temple, as well as the shrine, is built in traditional Dravidian architecture and design and there is also a magnificent 50 feet high pyramidal entrance, which is seen in almost the temple of South India. Some simply come here to witness the elaborately carved gopuram if they cannot go inside. The huge temple complex is about 27,000 in area and apart from Lord Venkateshwar, there are also shrines which are dedicated to Lord Hanuman, Goddess Padmavati and the Navagraha or the nine planets. Naturally, the temple records a high footfall every day. The temple is open from 6 am to 8 pm in summers and 7 am to 7 pm in winters.\n",
        "This stunning temple is located in the banks of the Gomti River at Khantwara and this is a very quiet place in the outskirts of the busy city of Lucknow. The devotees come here mostly to pray in the peace and quiet of the temple complex. It is said that the temple was established by Rajkumar Chandraketu, who was the son of Lord Laxman. He had built the temple in honor of Goddess Chandrika, who was a manifestation of Goddess Parvati. You will first set your eyes on a beautiful idol of Lord Shiva seated in the middle of a water pool. The maximum footfall in the temple is recorded during new moon nights, when offerings are made to the Goddess, and during the nine nights of Navaratri. A fair is organized at that time and devotees come from far and wide. The temple remains open from 5 am to 1 pm and then from 2 pm to 11 pm.\"\"\"\n"
      ],
      "metadata": {
        "id": "ZW9LnOs_aJE4"
      },
      "execution_count": null,
      "outputs": []
    },
    {
      "cell_type": "code",
      "source": [
        "q_a_pairs = data_gen.create(raw_data)"
      ],
      "metadata": {
        "id": "bLmdRmGFaTQ1"
      },
      "execution_count": null,
      "outputs": []
    },
    {
      "cell_type": "code",
      "source": [
        "q_a_pairs"
      ],
      "metadata": {
        "colab": {
          "base_uri": "https://localhost:8080/"
        },
        "id": "2teLr3aIabK3",
        "outputId": "a0e1d44b-566c-4bc1-9d92-34f4cd28f115"
      },
      "execution_count": null,
      "outputs": [
        {
          "output_type": "execute_result",
          "data": {
            "text/plain": [
              "[{'question': 'Why might someone believe they are in Southern India when visiting this temple?',\n",
              "  'answer': \"The temple's Dravidian architecture and design, including its 50 feet high pyramidal entrance, is commonly associated with temples in Southern India.\"},\n",
              " {'question': 'Besides Lord Balaji, which other deities are enshrined in the temple complex?',\n",
              "  'answer': 'Lord Hanuman, Goddess Padmavati, and the Navagraha (nine planets) are also enshrined in the temple.'},\n",
              " {'question': 'What is the significance of new moon nights and Navaratri for the temple?',\n",
              "  'answer': 'New moon nights and Navaratri attract high footfall as devotees make offerings and participate in a fair held during these times.'},\n",
              " {'question': 'Where is the temple located?',\n",
              "  'answer': 'The temple is situated on the banks of the Gomti River at Khantwara, a quiet area outside the city of Lucknow.'},\n",
              " {'question': 'Who is said to have established the temple and in honor of whom?',\n",
              "  'answer': 'Rajkumar Chandraketu, the son of Lord Laxman, is believed to have built the temple in honor of Goddess Chandrika, a manifestation of Goddess Parvati.'},\n",
              " {'question': 'What is the significance of the idol of Lord Shiva in the water pool?',\n",
              "  'answer': 'The idol of Lord Shiva seated in the middle of a water pool is the first sight that visitors encounter upon entering the temple.'},\n",
              " {'question': \"What are the temple's opening hours?\",\n",
              "  'answer': 'During the summer, the temple is open from 6 am to 8 pm, while in the winter, it is open from 7 am to 7 pm.'}]"
            ]
          },
          "metadata": {},
          "execution_count": 6
        }
      ]
    },
    {
      "cell_type": "code",
      "source": [
        "#perform cleaning before using it"
      ],
      "metadata": {
        "id": "jC2bm8G_ax26"
      },
      "execution_count": null,
      "outputs": []
    }
  ]
}