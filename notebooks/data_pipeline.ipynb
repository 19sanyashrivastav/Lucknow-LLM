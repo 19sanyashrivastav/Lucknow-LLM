{
 "cells": [
  {
   "cell_type": "code",
   "execution_count": null,
   "id": "01f66a6e-a837-4893-92fd-2a9c7945ed91",
   "metadata": {},
   "outputs": [],
   "source": [
    "# Converting long paragraphs into short sentences for model input"
   ]
  },
  {
   "cell_type": "code",
   "execution_count": 9,
   "id": "7501f87c-5407-4fd5-9859-dcd69451f424",
   "metadata": {},
   "outputs": [],
   "source": [
    "long_paragraph = \"\"\"Lucknow once enjoyed the patronage of the Nawabs, who raised its profile as a centre for dance, music, and culinary arts. To this day, it retains its reputation for producing great music, art, and poetry. It was also the scene of the Indian Mutiny and today, with each of its monuments, being immaculately maintained and having a fascination history, makes this a city well worth visiting, take time to see La Martiniere, The Residency was the scene of the Indian Mutiny, The Bara Imambara and the Chotta Imambara.\n",
    "Beyond its monuments, Lucknow is also famous for its shopping, perfumes and food. It’s beautiful chikan kari work, oil-based, naturally scented perfumes have been family businesses here for generations and a street food tour here is a must.\n",
    "Artistic skill of people of Lucknow is also appreciating and Lucknavi embroidered saris or bed sheets are the main example of their art.\n",
    "Lucknow has a deep-rooted literary tradition, with Urdu being one of the primary languages of expression. The city has produced some of the finest Urdu poets and writers, including Mir Taqi Mir and Mirza Ghalib. The annual Urdu festival, Jashn-e-Rekhta, celebrates the beauty of the language and attracts enthusiasts from across the country.\n",
    "The city of Lucknow is known for its classical music and dance forms. The traditional Kathak dance, with its intricate footwork and expressive storytelling, finds its roots here. The melodious strains of the sitar and tabla often fill the air during cultural events and festivals.\n",
    "One of the most striking features of Lucknow is its architecture, which reflects a blend of Mughal and Awadhi styles. The city is dotted with magnificent monuments that transport you to a bygone era. The Bara Imambara, built by Nawab Asaf-ud-Daula, is an architectural marvel renowned for its massive central hall, known as the Bhool Bhulaiya (Labyrinth). It's a testament to the grandeur of the Nawabi era.\"\"\"\n",
    "\n",
    "from lucknowllm import split_into_segments\n",
    "sentences = split_into_segments(long_paragraph)"
   ]
  },
  {
   "cell_type": "code",
   "execution_count": 11,
   "id": "f0499a2a-fef3-45b8-a6d3-4fd50b00628f",
   "metadata": {},
   "outputs": [
    {
     "name": "stdout",
     "output_type": "stream",
     "text": [
      "2\n"
     ]
    }
   ],
   "source": [
    "print(len(sentences))"
   ]
  },
  {
   "cell_type": "code",
   "execution_count": null,
   "id": "27e3f18a-e26a-4778-92f9-e6907a8c866e",
   "metadata": {},
   "outputs": [],
   "source": [
    "# now use each short sentence to model for data generation"
   ]
  },
  {
   "cell_type": "code",
   "execution_count": 17,
   "id": "82e325c4-251d-4099-9710-beedc80ac76c",
   "metadata": {},
   "outputs": [],
   "source": [
    "from lucknowllm import get_prompt\n",
    "from lucknowllm import GeminiModel\n",
    "\n",
    "Gemini = GeminiModel(api_key = \"\", model_name = \"gemini-1.0-pro\")"
   ]
  },
  {
   "cell_type": "code",
   "execution_count": 27,
   "id": "362e44ef-f355-47bb-86ea-3f0538865bea",
   "metadata": {},
   "outputs": [
    {
     "name": "stderr",
     "output_type": "stream",
     "text": [
      "100%|█████████████████████████████████████████████████████████████████████████████████████████████████████| 2/2 [00:26<00:00, 13.34s/it]\n"
     ]
    }
   ],
   "source": [
    "import uuid\n",
    "from tqdm import tqdm\n",
    "\n",
    "structured_dataset = []\n",
    "for each_sentence in tqdm(sentences):\n",
    "\n",
    "    temp_dict    = {}\n",
    "\n",
    "    llm_input    = construct_prompt('raw_to_structured', each_sentence)\n",
    "    model_output = Gemini.generate_content(llm_input)\n",
    "    try:     \n",
    "        structured_dataset.extend(eval(model_output))\n",
    "    except Exception as e:\n",
    "        pass"
   ]
  },
  {
   "cell_type": "code",
   "execution_count": 28,
   "id": "17997b62-5359-432d-95e2-c48ed23b123f",
   "metadata": {},
   "outputs": [
    {
     "name": "stdout",
     "output_type": "stream",
     "text": [
      "[{'answer': 'Lucknow was renowned as a centre for dance, music, and culinary '\n",
      "            'arts under the patronage of the Nawabs.',\n",
      "  'question': \"What was Lucknow's reputation during the patronage of the \"\n",
      "              'Nawabs?'},\n",
      " {'answer': 'Lucknow retains its reputation for producing great music, art, '\n",
      "            'and poetry.',\n",
      "  'question': 'What is Lucknow still known for today?'},\n",
      " {'answer': 'Lucknow was the scene of the Indian Mutiny.',\n",
      "  'question': 'What historical event took place in Lucknow?'},\n",
      " {'answer': 'La Martiniere, The Residency, The Bara Imambara, and the Chotta '\n",
      "            'Imambara are some of the must-visit monuments in Lucknow.',\n",
      "  'question': 'What are some of the must-visit monuments in Lucknow?'},\n",
      " {'answer': 'Lucknow is also famous for its shopping, perfumes, and food.',\n",
      "  'question': 'What is Lucknow famous for beyond its monuments?'},\n",
      " {'answer': 'Lucknow is known for its beautiful chikan kari work.',\n",
      "  'question': 'What is a unique artistic skill of the people of Lucknow?'},\n",
      " {'answer': 'A street food tour is a must-try experience in Lucknow.',\n",
      "  'question': 'What is a must-try experience in Lucknow?'},\n",
      " {'answer': 'Lucknow has a deep-rooted literary tradition, with Urdu being one '\n",
      "            'of the primary languages of expression.',\n",
      "  'question': 'What is a notable literary aspect of Lucknow?'},\n",
      " {'answer': 'Mir Taqi Mir and Mirza Ghalib are some of the finest Urdu poets '\n",
      "            'and writers from Lucknow.',\n",
      "  'question': 'Who are some famous Urdu poets and writers from Lucknow?'},\n",
      " {'answer': 'The annual Urdu festival, Jashn-e-Rekhta, celebrates the beauty '\n",
      "            'of the Urdu language and attracts enthusiasts from across the '\n",
      "            'country.',\n",
      "  'question': 'What is the significance of the annual Urdu festival, '\n",
      "              'Jashn-e-Rekhta?'},\n",
      " {'answer': 'Lucknow is known for its classical music and dance forms, '\n",
      "            'particularly the traditional Kathak dance with its intricate '\n",
      "            'footwork and expressive storytelling.',\n",
      "  'question': 'What is Lucknow renowned for in terms of performing arts?'},\n",
      " {'answer': 'The melodious strains of the sitar and tabla often fill the air '\n",
      "            'during cultural events and festivals in Lucknow.',\n",
      "  'question': \"What musical instruments are commonly associated with Lucknow's \"\n",
      "              'cultural events?'},\n",
      " {'answer': \"Lucknow's architecture reflects a blend of Mughal and Awadhi \"\n",
      "            'styles, showcasing magnificent monuments that transport visitors '\n",
      "            'to a bygone era.',\n",
      "  'question': 'Describe the architectural style of Lucknow.'},\n",
      " {'answer': 'The Bara Imambara, built by Nawab Asaf-ud-Daula, is an '\n",
      "            'architectural marvel renowned for its massive central hall, known '\n",
      "            'as the Bhool Bhulaiya (Labyrinth), which exemplifies the grandeur '\n",
      "            'of the Nawabi era.',\n",
      "  'question': 'What is the architectural significance of the Bara Imambara?'}]\n"
     ]
    }
   ],
   "source": [
    "from pprint import pprint\n",
    "pprint(structured_dataset)"
   ]
  },
  {
   "cell_type": "code",
   "execution_count": null,
   "id": "497a5fc5-1117-49aa-a6aa-d9a8d0d43d6d",
   "metadata": {},
   "outputs": [],
   "source": []
  }
 ],
 "metadata": {
  "kernelspec": {
   "display_name": "Python 3 (ipykernel)",
   "language": "python",
   "name": "python3"
  },
  "language_info": {
   "codemirror_mode": {
    "name": "ipython",
    "version": 3
   },
   "file_extension": ".py",
   "mimetype": "text/x-python",
   "name": "python",
   "nbconvert_exporter": "python",
   "pygments_lexer": "ipython3",
   "version": "3.9.6"
  }
 },
 "nbformat": 4,
 "nbformat_minor": 5
}
