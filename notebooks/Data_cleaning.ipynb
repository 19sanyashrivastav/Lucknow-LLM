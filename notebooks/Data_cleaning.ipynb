{
  "nbformat": 4,
  "nbformat_minor": 0,
  "metadata": {
    "colab": {
      "provenance": []
    },
    "kernelspec": {
      "name": "python3",
      "display_name": "Python 3"
    },
    "language_info": {
      "name": "python"
    }
  },
  "cells": [
    {
      "cell_type": "code",
      "execution_count": 2,
      "metadata": {
        "id": "Az69oalt6NG_"
      },
      "outputs": [],
      "source": [
        "import re\n",
        "\n",
        "def clean_text(text):\n",
        "    \"\"\"\n",
        "    Cleans the input text by removing newline characters and reducing all instances of multiple\n",
        "    spaces to a single space.\n",
        "\n",
        "    Parameters:\n",
        "    - text (str): The input text to be cleaned.\n",
        "\n",
        "    Returns:\n",
        "    - str: The cleaned text with newline characters removed and multiple spaces reduced to a single space.\n",
        "    \"\"\"\n",
        "    # Use regex to replace one or more whitespace characters (including spaces, tabs, and newlines)\n",
        "    # with a single space, and then strip leading and trailing whitespace from the result.\n",
        "    cleaned_text = re.sub(r'\\s+', ' ', text).strip()\n",
        "    return cleaned_text\n",
        "\n",
        "def split_into_segments(sentence, limit = 200, backtrack_limit = 100):\n",
        "    \"\"\"\n",
        "    Splits a long sentence into multiple smaller segments based on specified limits, ensuring\n",
        "    segments end with complete sentences where possible.\n",
        "\n",
        "    Parameters:\n",
        "    - sentence (str): The long sentence to split.\n",
        "    - limit (int): The approximate limit for the number of words in each segment.\n",
        "    - backtrack_limit (int): The maximum number of words to backtrack in an effort to end a segment with complete sentences.\n",
        "\n",
        "    Returns:\n",
        "    - list: A list of sentence segments.\n",
        "    \"\"\"\n",
        "    segments = []\n",
        "    # Clean the sentence to remove excessive whitespace and newline characters.\n",
        "    remaining_sentence = clean_text(sentence)\n",
        "\n",
        "    while remaining_sentence:\n",
        "        # Generate a segment that respects the limit and attempts to end with complete sentences.\n",
        "        segment = limit_to_approx_words(remaining_sentence, limit, backtrack_limit)\n",
        "        segments.append(segment)\n",
        "        # Update the remaining sentence by removing the processed segment and leading spaces.\n",
        "        remaining_sentence = remaining_sentence[len(segment):].lstrip()\n",
        "\n",
        "        # If there's no remaining sentence to process, exit the loop.\n",
        "        if not remaining_sentence:\n",
        "            break\n",
        "    return segments\n",
        "\n",
        "def limit_to_approx_words(sentence, limit=200, backtrack_limit=100):\n",
        "    \"\"\"\n",
        "    Truncates a sentence to a specified limit of words, attempting to end with a full stop, question mark,\n",
        "    or exclamation point within a backtrack limit if possible.\n",
        "\n",
        "    Parameters:\n",
        "    - sentence (str): The sentence to truncate.\n",
        "    - limit (int, optional): The maximum number of words desired in the truncated sentence. Defaults to 200.\n",
        "    - backtrack_limit (int, optional): The maximum number of words to backtrack through to find a suitable\n",
        "      ending punctuation. Defaults to 100.\n",
        "\n",
        "    Returns:\n",
        "    - str: The truncated sentence, ideally ending with a complete sentence.\n",
        "    \"\"\"\n",
        "    words = sentence.split()\n",
        "    if len(words) <= limit:\n",
        "        return sentence\n",
        "\n",
        "    # Join words up to the limit, then strip to remove any leading or trailing whitespace.\n",
        "    limited_text = \" \".join(words[:limit]).strip()\n",
        "    # Attempt to find a sentence-ending punctuation within the backtrack limit.\n",
        "    for i in range(limit - 1, max(0, limit - backtrack_limit), -1):\n",
        "        if words[i][-1] in \".!?\":\n",
        "            # Return the text up to and including the punctuation.\n",
        "            return \" \".join(words[:i + 1])\n",
        "\n",
        "    # If no suitable punctuation is found, return the text up to the word limit.\n",
        "    return limited_text"
      ]
    },
    {
      "cell_type": "code",
      "source": [
        "long_sentence_example = \"\"\"When Asaf-ud-Daula, the fourth Nawab of Awadh (state rulers of the area now known as Uttar Pradesh), shifted the state capital from Faizabad to Lucknow in 1775, it led to a cultural renaissance. An exodus of architects and craftsmen landed there from Delhi, and many other poets, artists and learned men from all around made Lucknow their home. It is said that artisans from as far as the Uzbekistan capital Tashkent, and masons from Isfahan in Iran, were brought to Lucknow by the Persian Nawabs.\n",
        "One of the important crafts of Uttar Pradesh is Chikankari, which entails delicate and traditional hand embroidery. This form of handicrafts is mainly practiced in Lucknow. It is done on fabrics like chiffon, muslin, organza, organdie and silk. Chikan saris and Kurtas which are the perfect summer wear.\n",
        "State Lalit Kala Akademi, located in Lal Baradari Bhawan, was founded in 1962 by the Uttar Pradesh Department of Culture. As per the official website of the Akademi, outstanding works of art have been collected from various exhibitions, shows and camps, since the existence of the Akademi. Specialised exhibitions are organised in the Modern Art Gallery of the Akademi throughout the year, eelecting from a vast reserve collection of almost 1800 works consisting of paintings, sculptures, drawings, and graphics. The Akademi conducts a variety of events with the goal of promoting and giving a platform to renowned as well as emerging artists to showcase their talent.\n",
        "Lucknow is one of the few cities in the country where there is not one, but two Lalit Kala Akademis! Apart from the State Lalit Kala Akademi, the regional centre in Aliganj, Lucknow is also a buzzing centre for art and culture. The Regional Centers of the Akademi are located in Delhi, Chennai, Bhubaneswar and Kolkata apart from Lucknow for the development of art. Apart from hosting art and photography exhibitions from time to time, the Regional Lalit Kala Akademi in Lucknow also has a work place for the artists namely community workshops for all the disciplines of visual art.\n",
        "The Picture Gallery, built in 1838 by Nawab Mohammed Ali Shah, exhibits full-length portraits of Awadh’s nawabs and pictures of the administrators and officials of the British era. These life-size portraits were painted by visiting European painters including Dawling, Gravet, and Harrison, as well as an Indian artist named DS Singh. As you go by them, you may notice that their eyes, heads, and accessories, such as shoes, appear to be pointed towards you, leaving you spellbound. As per the legend, these paintings are said to have been done on elephant skin, and the colour used to fill them were created with the help of diamonds and gems, and are painted in such a manner that the different parts seem to move with the angle of view\n",
        "Kalasrot is a private art gallery committed to promoting contemporary art practices in all visual art disciplines. It has art works ranging from graphics to sculptures and paintings on display. While its online gallery provides a glimpse into their current collections, it also allows art enthusiasts everywhere easy access to Kalasrot’s displayed artworks.\n",
        "Timings: 11 am to 9 pm\n",
        "Location: A1/9B,Sector-B,Near Nehru bal vatika, Aliganj, Lucknow\n",
        "The Saraca Art Gallery is known for hosting group art shows by contemporary artists such as Dheeraj Yadav and Bhupender Asthana, as well as solo art exhibitions curated by art connoisseur Vandana Sehgal. It is located at hotel Lebua, a heritage boutique hotel in a traditional 19th-century bungalow. Please check if an art show is on at the gallery before landing there.\n",
        "Location: 19, Sarva Palli, Saraca Estate, The Mall Avenue, Lucknow\n",
        "Timings: 11 am to 7 pm\n",
        "Opened in 2014, Cosmos Art Gallery by Dr. Aron hosts contemporary art exhibitions, both solo, and group, ranging from a collection of sculptures to paintings and photography shows by up-and-coming artist. Apart from hosting artists to exhibit their works, they also conduct art promotion workshops and classes.\n",
        "Location: 41, Prag Narayan Rd, Butler Colony, Lucknow\n",
        "Timings: 11 am to 7 pm, Thursday Closed\n",
        "A melting pot of art, culture, cuisine and architecture, the bustling city of Lucknow, the capital of Uttar Pradesh, preserves its essence of grandeur in its kaleidoscopic experiences. From a vibrant culinary scene and exquisite historical monuments to its rich art and culture and vestiges of colonial charm, the city of nawabs, as it is popularly called, is as welcoming as is the warmth of its people.\n",
        "Chikankari\n",
        "A delicate hand embroidery technique done on fabrics like chiffon, muslin, organza, organdie and silk, chikankari is one of the most important crafts in Lucknow. The word 'chikan' means embroidery, and this form of art incorporates 36 different stitching techniques. In the beginning, only white yarn or muslin cloth was used. Stitching is done on the back of the cloth whereas the design is made on the front by tiny, running stitches. There are three main types of stitches – flat, embossed, and jaali (net effect). Due to a Persian influence, flowers have a permanent place in this art form. Typical chikankari motifs include creepers and vines. However, the types and styles in which these flowers are made keep varying with fashion trends. Today, there are hundreds of retailers of chikankari fabric across the country. In Lucknow, the lanes of markets are dotted with shops selling chikan work in various forms. You can pick up shirts, kurtas, bedsheets, table cloth, pillow covers and many other items adorned in chikankari.\n",
        "\"\"\"\n",
        "\n",
        "\n",
        "split_sentences = split_into_segments(long_sentence_example)\n"
      ],
      "metadata": {
        "id": "3tyWzFyi6RzI"
      },
      "execution_count": 3,
      "outputs": []
    },
    {
      "cell_type": "code",
      "source": [
        "for short_sentence in split_sentences:\n",
        "  print(short_sentence)\n",
        "  print(\"\\n\\n\\n\")"
      ],
      "metadata": {
        "colab": {
          "base_uri": "https://localhost:8080/"
        },
        "id": "Y67DdYoS6lDw",
        "outputId": "bf828bd0-a086-431e-99f9-3b4a53c720c8"
      },
      "execution_count": 4,
      "outputs": [
        {
          "output_type": "stream",
          "name": "stdout",
          "text": [
            "When Asaf-ud-Daula, the fourth Nawab of Awadh (state rulers of the area now known as Uttar Pradesh), shifted the state capital from Faizabad to Lucknow in 1775, it led to a cultural renaissance. An exodus of architects and craftsmen landed there from Delhi, and many other poets, artists and learned men from all around made Lucknow their home. It is said that artisans from as far as the Uzbekistan capital Tashkent, and masons from Isfahan in Iran, were brought to Lucknow by the Persian Nawabs. One of the important crafts of Uttar Pradesh is Chikankari, which entails delicate and traditional hand embroidery. This form of handicrafts is mainly practiced in Lucknow. It is done on fabrics like chiffon, muslin, organza, organdie and silk. Chikan saris and Kurtas which are the perfect summer wear. State Lalit Kala Akademi, located in Lal Baradari Bhawan, was founded in 1962 by the Uttar Pradesh Department of Culture. As per the official website of the Akademi, outstanding works of art have been collected from various exhibitions, shows and camps, since the existence of the Akademi.\n",
            "\n",
            "\n",
            "\n",
            "\n",
            "Specialised exhibitions are organised in the Modern Art Gallery of the Akademi throughout the year, eelecting from a vast reserve collection of almost 1800 works consisting of paintings, sculptures, drawings, and graphics. The Akademi conducts a variety of events with the goal of promoting and giving a platform to renowned as well as emerging artists to showcase their talent. Lucknow is one of the few cities in the country where there is not one, but two Lalit Kala Akademis! Apart from the State Lalit Kala Akademi, the regional centre in Aliganj, Lucknow is also a buzzing centre for art and culture. The Regional Centers of the Akademi are located in Delhi, Chennai, Bhubaneswar and Kolkata apart from Lucknow for the development of art. Apart from hosting art and photography exhibitions from time to time, the Regional Lalit Kala Akademi in Lucknow also has a work place for the artists namely community workshops for all the disciplines of visual art. The Picture Gallery, built in 1838 by Nawab Mohammed Ali Shah, exhibits full-length portraits of Awadh’s nawabs and pictures of the administrators and officials of the British era.\n",
            "\n",
            "\n",
            "\n",
            "\n",
            "These life-size portraits were painted by visiting European painters including Dawling, Gravet, and Harrison, as well as an Indian artist named DS Singh. As you go by them, you may notice that their eyes, heads, and accessories, such as shoes, appear to be pointed towards you, leaving you spellbound. As per the legend, these paintings are said to have been done on elephant skin, and the colour used to fill them were created with the help of diamonds and gems, and are painted in such a manner that the different parts seem to move with the angle of view Kalasrot is a private art gallery committed to promoting contemporary art practices in all visual art disciplines. It has art works ranging from graphics to sculptures and paintings on display. While its online gallery provides a glimpse into their current collections, it also allows art enthusiasts everywhere easy access to Kalasrot’s displayed artworks. Timings: 11 am to 9 pm Location: A1/9B,Sector-B,Near Nehru bal vatika, Aliganj, Lucknow The Saraca Art Gallery is known for hosting group art shows by contemporary artists such as Dheeraj Yadav and Bhupender Asthana, as well as solo art exhibitions curated by art connoisseur Vandana Sehgal.\n",
            "\n",
            "\n",
            "\n",
            "\n",
            "It is located at hotel Lebua, a heritage boutique hotel in a traditional 19th-century bungalow. Please check if an art show is on at the gallery before landing there. Location: 19, Sarva Palli, Saraca Estate, The Mall Avenue, Lucknow Timings: 11 am to 7 pm Opened in 2014, Cosmos Art Gallery by Dr. Aron hosts contemporary art exhibitions, both solo, and group, ranging from a collection of sculptures to paintings and photography shows by up-and-coming artist. Apart from hosting artists to exhibit their works, they also conduct art promotion workshops and classes. Location: 41, Prag Narayan Rd, Butler Colony, Lucknow Timings: 11 am to 7 pm, Thursday Closed A melting pot of art, culture, cuisine and architecture, the bustling city of Lucknow, the capital of Uttar Pradesh, preserves its essence of grandeur in its kaleidoscopic experiences. From a vibrant culinary scene and exquisite historical monuments to its rich art and culture and vestiges of colonial charm, the city of nawabs, as it is popularly called, is as welcoming as is the warmth of its people.\n",
            "\n",
            "\n",
            "\n",
            "\n",
            "Chikankari A delicate hand embroidery technique done on fabrics like chiffon, muslin, organza, organdie and silk, chikankari is one of the most important crafts in Lucknow. The word 'chikan' means embroidery, and this form of art incorporates 36 different stitching techniques. In the beginning, only white yarn or muslin cloth was used. Stitching is done on the back of the cloth whereas the design is made on the front by tiny, running stitches. There are three main types of stitches – flat, embossed, and jaali (net effect). Due to a Persian influence, flowers have a permanent place in this art form. Typical chikankari motifs include creepers and vines. However, the types and styles in which these flowers are made keep varying with fashion trends. Today, there are hundreds of retailers of chikankari fabric across the country. In Lucknow, the lanes of markets are dotted with shops selling chikan work in various forms. You can pick up shirts, kurtas, bedsheets, table cloth, pillow covers and many other items adorned in chikankari.\n",
            "\n",
            "\n",
            "\n",
            "\n"
          ]
        }
      ]
    },
    {
      "cell_type": "code",
      "source": [],
      "metadata": {
        "id": "BUtKJF7U6qGi"
      },
      "execution_count": null,
      "outputs": []
    }
  ]
}